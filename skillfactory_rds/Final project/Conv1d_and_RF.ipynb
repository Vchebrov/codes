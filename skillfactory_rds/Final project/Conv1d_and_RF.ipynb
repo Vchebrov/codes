{
  "nbformat": 4,
  "nbformat_minor": 0,
  "metadata": {
    "colab": {
      "name": "Conv1d and RF.ipynb",
      "provenance": [],
      "collapsed_sections": []
    },
    "kernelspec": {
      "display_name": "Python 3",
      "language": "python",
      "name": "python3"
    },
    "language_info": {
      "codemirror_mode": {
        "name": "ipython",
        "version": 3
      },
      "file_extension": ".py",
      "mimetype": "text/x-python",
      "name": "python",
      "nbconvert_exporter": "python",
      "pygments_lexer": "ipython3",
      "version": "3.8.5"
    }
  },
  "cells": [
    {
      "cell_type": "code",
      "metadata": {
        "id": "M5yyBOMOAPTO"
      },
      "source": [
        "pip install tsfresh"
      ],
      "execution_count": null,
      "outputs": []
    },
    {
      "cell_type": "code",
      "metadata": {
        "colab": {
          "base_uri": "https://localhost:8080/"
        },
        "id": "HsyKviwWmB3w",
        "outputId": "8bfb840c-4ca9-4a71-f1db-a801a6071db2"
      },
      "source": [
        "import os\n",
        "import pandas as pd\n",
        "import numpy as np\n",
        "\n",
        "# import ObsPy framework \n",
        "\n",
        "# from obspy import read\n",
        "# from obspy.clients.fdsn import Client\n",
        "# from obspy import UTCDateTime\n",
        "# from obspy import read, Trace\n",
        "# from obspy import Stream\n",
        "# from obspy.clients.filesystem.sds import Client\n",
        "\n",
        "import datetime  \n",
        "import time\n",
        "# import tkinter fo future use\n",
        "\n",
        "import tkinter\n",
        "from tkinter import filedialog\n",
        "\n",
        "import matplotlib.pyplot as plt\n",
        "\n",
        "from termcolor import colored\n",
        "\n",
        "import scipy\n",
        "from scipy import signal\n",
        "\n",
        "from statsmodels.tsa.seasonal import seasonal_decompose\n",
        "\n",
        "from sklearn.preprocessing import StandardScaler\n",
        "from sklearn.preprocessing import MinMaxScaler\n",
        "from sklearn.model_selection import train_test_split\n",
        "\n",
        "import gc\n",
        "# Preset for data folders\n",
        "\n",
        "from tensorflow.keras import regularizers\n",
        "import tensorflow as tf\n",
        "import tensorflow.keras.layers as L\n",
        "from tensorflow.keras.models import Model, Sequential\n",
        "from tensorflow.keras.preprocessing.text import Tokenizer\n",
        "from tensorflow.keras.preprocessing import sequence\n",
        "from tensorflow.keras.callbacks import ModelCheckpoint, EarlyStopping\n",
        "from tensorflow.keras.utils import to_categorical\n",
        "\n",
        "from tsfresh import extract_features, extract_relevant_features, select_features\n",
        "from tsfresh.utilities.dataframe_functions import impute\n",
        "from tsfresh.feature_extraction import ComprehensiveFCParameters, EfficientFCParameters, MinimalFCParameters\n",
        "from sklearn.ensemble import RandomForestClassifier\n",
        "\n",
        "from yellowbrick.classifier.rocauc import roc_auc\n",
        "from sklearn.metrics import roc_curve, auc, confusion_matrix\n",
        "\n",
        "DATA_CAT = '20190401-20190410/20190401-20190410/'\n",
        "\n",
        "DATA_MSD = '20190401-20190410/20190401-20190410/mseed/'\n",
        "\n",
        "DATA_ASC = '/content/drive/MyDrive/Colab Notebooks/Data/asc20190401-20190410/'\n",
        "\n",
        "DATA_PKS = '/content/drive/MyDrive/Colab Notebooks/Data/PKS_20190401-20190410/2021052004431722/'\n",
        "\n",
        "DATA_RESP = '20190401-20190410/responses/'\n",
        "\n",
        "DATA_CSV = '/content/drive/MyDrive/Colab Notebooks/Data/'\n",
        "\n",
        "DATA_STORAGE = '/content/drive/MyDrive/Colab Notebooks/Data/'\n",
        "\n",
        "DATA_MODEL = '/content/drive/MyDrive/'\n",
        "\n",
        "# Disabling warnings\n",
        "\n",
        "import warnings\n",
        "warnings.filterwarnings(\"ignore\")\n",
        "\n",
        "header_dict = {}\n",
        "\n",
        "df_for_learning = pd.DataFrame()\n",
        "final_learning = pd.DataFrame()\n",
        "\n",
        "RANDOM_SEED = 42"
      ],
      "execution_count": null,
      "outputs": [
        {
          "output_type": "stream",
          "text": [
            "/usr/local/lib/python3.7/dist-packages/statsmodels/tools/_testing.py:19: FutureWarning: pandas.util.testing is deprecated. Use the functions in the public API at pandas.testing instead.\n",
            "  import pandas.util.testing as tm\n",
            "/usr/local/lib/python3.7/dist-packages/sklearn/utils/deprecation.py:144: FutureWarning: The sklearn.metrics.classification module is  deprecated in version 0.22 and will be removed in version 0.24. The corresponding classes / functions should instead be imported from sklearn.metrics. Anything that cannot be imported from sklearn.metrics is now part of the private API.\n",
            "  warnings.warn(message, FutureWarning)\n"
          ],
          "name": "stderr"
        }
      ]
    },
    {
      "cell_type": "markdown",
      "metadata": {
        "id": "Q-MpR80-MvXW"
      },
      "source": [
        "### Uploading file with prepared data  "
      ]
    },
    {
      "cell_type": "code",
      "metadata": {
        "colab": {
          "base_uri": "https://localhost:8080/"
        },
        "id": "hho5CIOWOfgj",
        "outputId": "5a44bcca-60e4-41b6-ddca-db8f7eed6221"
      },
      "source": [
        "data = pd.read_csv(DATA_STORAGE + 'for_model.csv')\n",
        "data.head()\n",
        "len(data)"
      ],
      "execution_count": null,
      "outputs": [
        {
          "output_type": "execute_result",
          "data": {
            "text/plain": [
              "343229"
            ]
          },
          "metadata": {
            "tags": []
          },
          "execution_count": 120
        }
      ]
    },
    {
      "cell_type": "code",
      "metadata": {
        "id": "y_DX5RQHZ-1T"
      },
      "source": [
        "df = data.copy()"
      ],
      "execution_count": null,
      "outputs": []
    },
    {
      "cell_type": "code",
      "metadata": {
        "id": "DriasZ5PSRXy"
      },
      "source": [
        "# data.drop(['Unnamed: 0'], axis = 1, inplace = True)\n",
        "# data = data[(data['train'] != 'train')&(data['y_filt'] != 'y_filt')&(data['time_linear'] != 'time_linear')&(data['id'] != 'id')]\n",
        "# data['id'] = data['id'].apply(lambda x: int(x))\n",
        "# data.isna().sum()"
      ],
      "execution_count": null,
      "outputs": []
    },
    {
      "cell_type": "code",
      "metadata": {
        "id": "NgrV1kwgVQr-"
      },
      "source": [
        "# Cleaning function for Conv1d\n",
        "\n",
        "def data_prep(data):\n",
        "  df  = data.copy()\n",
        "  df.drop(['Unnamed: 0'], axis = 1, inplace = True)\n",
        "  df = df[(df['train'] != 'train')&(df['y_filt'] != 'y_filt')&(df['time_linear'] != 'time_linear')&(df['id'] != 'id')]\n",
        "  marks = []\n",
        "  df['train'] = df['train'].apply(lambda x: int(x))\n",
        "  df['y_filt'] = df['y_filt'].apply(lambda x: float(x))\n",
        "  # df['time_linear'] = df['time_linear'].apply(lambda x: pd.to_datetime(x))\n",
        "  df.drop(['time_linear','id'], axis = 1, inplace = True)\n",
        "  return df\n"
      ],
      "execution_count": null,
      "outputs": []
    },
    {
      "cell_type": "code",
      "metadata": {
        "id": "X70oFqxjRgdS"
      },
      "source": [
        "df = data_prep(data)"
      ],
      "execution_count": null,
      "outputs": []
    },
    {
      "cell_type": "code",
      "metadata": {
        "colab": {
          "base_uri": "https://localhost:8080/"
        },
        "id": "7RyOA752cByx",
        "outputId": "164095b2-c36b-4a3d-cd79-81861966af20"
      },
      "source": [
        "# Data split for three 3 dimensions by type of event - free_of_event, P wave and S wave. The same is done for labels \n",
        "df_s = df[df['train'] == 1]['y_filt'].values\n",
        "df_p = df[df['train'] == 2]['y_filt'].values\n",
        "df_free = df[df['train'] == 0]['y_filt'].values\n",
        "y_train = df['train'].values \n",
        "\n",
        "df_s.shape, df_p.shape, df_free.shape"
      ],
      "execution_count": null,
      "outputs": [
        {
          "output_type": "execute_result",
          "data": {
            "text/plain": [
              "((116033,), (73483,), (153684,))"
            ]
          },
          "metadata": {
            "tags": []
          },
          "execution_count": 124
        }
      ]
    },
    {
      "cell_type": "code",
      "metadata": {
        "id": "n4-470rykxLs"
      },
      "source": [
        "# Because of different lenght of trend they were limited by minimum value\n",
        "df_s = df_s[:df_p.shape[0]]\n",
        "df_free = df_free[:df_p.shape[0]]\n",
        "y = y_train[:df_p.shape[0]]"
      ],
      "execution_count": null,
      "outputs": []
    },
    {
      "cell_type": "code",
      "metadata": {
        "id": "zBWYnpHKG0D0"
      },
      "source": [
        "y = to_categorical(y)"
      ],
      "execution_count": null,
      "outputs": []
    },
    {
      "cell_type": "code",
      "metadata": {
        "id": "SUHZdxaCGTDm"
      },
      "source": [
        "df_s = df_s.reshape(df_s.shape[0],1)\n",
        "df_p = df_p.reshape(df_p.shape[0],1)\n",
        "df_free = df_free.reshape(df_free.shape[0],1)"
      ],
      "execution_count": null,
      "outputs": []
    },
    {
      "cell_type": "code",
      "metadata": {
        "colab": {
          "base_uri": "https://localhost:8080/"
        },
        "id": "TM0EivqsaSAm",
        "outputId": "5e18be33-8e40-4b19-9b51-9ffcefcef12a"
      },
      "source": [
        "# Create 3 dim array\n",
        "X = np.dstack([df_s, df_p, df_free])\n",
        "X.shape, y.shape"
      ],
      "execution_count": null,
      "outputs": [
        {
          "output_type": "execute_result",
          "data": {
            "text/plain": [
              "((73483, 1, 3), (73483, 3))"
            ]
          },
          "metadata": {
            "tags": []
          },
          "execution_count": 129
        }
      ]
    },
    {
      "cell_type": "code",
      "metadata": {
        "colab": {
          "base_uri": "https://localhost:8080/"
        },
        "id": "G48v9PMhWy1y",
        "outputId": "b161dea2-7615-478b-bd2e-f333af334375"
      },
      "source": [
        "X_train, X_test, y_train, y_test = train_test_split(X, y, test_size=0.15, shuffle=False, random_state=RANDOM_SEED)\n",
        "X_train.shape, X_test.shape, y_train.shape, y_test.shape"
      ],
      "execution_count": null,
      "outputs": [
        {
          "output_type": "execute_result",
          "data": {
            "text/plain": [
              "((62460, 1, 3), (11023, 1, 3), (62460, 3), (11023, 3))"
            ]
          },
          "metadata": {
            "tags": []
          },
          "execution_count": 130
        }
      ]
    },
    {
      "cell_type": "code",
      "metadata": {
        "colab": {
          "base_uri": "https://localhost:8080/"
        },
        "id": "8jQHm7FCW7hK",
        "outputId": "3dfc332c-0e66-4494-ab11-759db6ec8cd3"
      },
      "source": [
        "n_timesteps, n_features, n_outputs = X_train.shape[0], X_train.shape[2], y_train.shape[1]\n",
        "n_timesteps, n_features, n_outputs"
      ],
      "execution_count": null,
      "outputs": [
        {
          "output_type": "execute_result",
          "data": {
            "text/plain": [
              "(62460, 3, 3)"
            ]
          },
          "metadata": {
            "tags": []
          },
          "execution_count": 131
        }
      ]
    },
    {
      "cell_type": "markdown",
      "metadata": {
        "id": "WUQBHsrIcPWk"
      },
      "source": [
        "# Learning with Conv1D NN"
      ]
    },
    {
      "cell_type": "markdown",
      "metadata": {
        "id": "Z-VMtP1-rdP2"
      },
      "source": [
        "### Conv1D is used for test. Lack of data making impossible to perform high quality of NN prediction. Fit/predict on basic data with (343229,) shape will not provide necessary features for network. "
      ]
    },
    {
      "cell_type": "code",
      "metadata": {
        "id": "6m_7UKlLNaso"
      },
      "source": [
        "def evaluate_model(trainX, trainy, testX, testy):\n",
        "\tverbose, epochs, batch_size = 1, 50, 128\n",
        "\tn_timesteps, n_features, n_outputs = trainX.shape[1], trainX.shape[2], trainy.shape[1]\n",
        "\tmodel = Sequential()\n",
        "\tmodel.add(L.Conv1D(filters=10, kernel_size=1, activation='relu', input_shape=(n_timesteps,n_features)))\n",
        "\tmodel.add(L.Conv1D(filters=10, kernel_size=1, activation='relu'))\n",
        "\tmodel.add(L.Dropout(0.5))\n",
        "\t# model.add(L.MaxPooling1D(pool_size=2))\n",
        "\tmodel.add(L.Flatten())\n",
        "\tmodel.add(L.Dense(64, activation='relu'))\n",
        "\tmodel.add(L.Dense(n_outputs, activation='softmax'))\n",
        "  \n",
        "\tmodel.compile(loss='categorical_crossentropy', optimizer='adam', metrics=['accuracy'])\n",
        "  \n",
        "\t# fit network\n",
        "\tmodel.fit(trainX, trainy, epochs=epochs, batch_size=batch_size, verbose=verbose)\n",
        "\t# evaluate model\n",
        "\t_, accuracy = model.evaluate(testX, testy, batch_size=batch_size, verbose=0)\n",
        "\treturn accuracy"
      ],
      "execution_count": null,
      "outputs": []
    },
    {
      "cell_type": "code",
      "metadata": {
        "colab": {
          "base_uri": "https://localhost:8080/"
        },
        "id": "-A3f9OYaOQev",
        "outputId": "d706cf63-e5ea-46ec-e20a-dc902b6c18eb"
      },
      "source": [
        "print(X_train.shape, X_test.shape, y_train.shape, y_test.shape)\n",
        "evaluate_model(X_train, y_train, X_test, y_test)\n"
      ],
      "execution_count": null,
      "outputs": [
        {
          "output_type": "stream",
          "text": [
            "(62460, 1, 3) (11023, 1, 3) (62460, 3) (11023, 3)\n",
            "Epoch 1/50\n",
            "488/488 [==============================] - 2s 2ms/step - loss: 1.0485 - accuracy: 0.4736\n",
            "Epoch 2/50\n",
            "488/488 [==============================] - 1s 2ms/step - loss: 1.0394 - accuracy: 0.4770\n",
            "Epoch 3/50\n",
            "488/488 [==============================] - 1s 2ms/step - loss: 1.0389 - accuracy: 0.4771\n",
            "Epoch 4/50\n",
            "488/488 [==============================] - 1s 2ms/step - loss: 1.0382 - accuracy: 0.4778\n",
            "Epoch 5/50\n",
            "488/488 [==============================] - 1s 2ms/step - loss: 1.0381 - accuracy: 0.4780\n",
            "Epoch 6/50\n",
            "488/488 [==============================] - 1s 2ms/step - loss: 1.0378 - accuracy: 0.4780\n",
            "Epoch 7/50\n",
            "488/488 [==============================] - 1s 2ms/step - loss: 1.0378 - accuracy: 0.4780\n",
            "Epoch 8/50\n",
            "488/488 [==============================] - 1s 2ms/step - loss: 1.0375 - accuracy: 0.4779\n",
            "Epoch 9/50\n",
            "488/488 [==============================] - 1s 2ms/step - loss: 1.0378 - accuracy: 0.4780\n",
            "Epoch 10/50\n",
            "488/488 [==============================] - 1s 2ms/step - loss: 1.0370 - accuracy: 0.4780\n",
            "Epoch 11/50\n",
            "488/488 [==============================] - 1s 2ms/step - loss: 1.0368 - accuracy: 0.4789\n",
            "Epoch 12/50\n",
            "488/488 [==============================] - 1s 2ms/step - loss: 1.0368 - accuracy: 0.4789\n",
            "Epoch 13/50\n",
            "488/488 [==============================] - 1s 2ms/step - loss: 1.0372 - accuracy: 0.4782\n",
            "Epoch 14/50\n",
            "488/488 [==============================] - 1s 2ms/step - loss: 1.0368 - accuracy: 0.4780\n",
            "Epoch 15/50\n",
            "488/488 [==============================] - 1s 2ms/step - loss: 1.0367 - accuracy: 0.4786\n",
            "Epoch 16/50\n",
            "488/488 [==============================] - 1s 2ms/step - loss: 1.0367 - accuracy: 0.4786\n",
            "Epoch 17/50\n",
            "488/488 [==============================] - 1s 2ms/step - loss: 1.0364 - accuracy: 0.4791\n",
            "Epoch 18/50\n",
            "488/488 [==============================] - 1s 2ms/step - loss: 1.0364 - accuracy: 0.4789\n",
            "Epoch 19/50\n",
            "488/488 [==============================] - 1s 2ms/step - loss: 1.0365 - accuracy: 0.4788\n",
            "Epoch 20/50\n",
            "488/488 [==============================] - 1s 2ms/step - loss: 1.0363 - accuracy: 0.4791\n",
            "Epoch 21/50\n",
            "488/488 [==============================] - 1s 2ms/step - loss: 1.0363 - accuracy: 0.4792\n",
            "Epoch 22/50\n",
            "488/488 [==============================] - 1s 2ms/step - loss: 1.0362 - accuracy: 0.4788\n",
            "Epoch 23/50\n",
            "488/488 [==============================] - 1s 2ms/step - loss: 1.0364 - accuracy: 0.4790\n",
            "Epoch 24/50\n",
            "488/488 [==============================] - 1s 2ms/step - loss: 1.0363 - accuracy: 0.4790\n",
            "Epoch 25/50\n",
            "488/488 [==============================] - 1s 2ms/step - loss: 1.0363 - accuracy: 0.4787\n",
            "Epoch 26/50\n",
            "488/488 [==============================] - 1s 2ms/step - loss: 1.0360 - accuracy: 0.4795\n",
            "Epoch 27/50\n",
            "488/488 [==============================] - 1s 2ms/step - loss: 1.0356 - accuracy: 0.4791\n",
            "Epoch 28/50\n",
            "488/488 [==============================] - 1s 2ms/step - loss: 1.0359 - accuracy: 0.4800\n",
            "Epoch 29/50\n",
            "488/488 [==============================] - 1s 2ms/step - loss: 1.0355 - accuracy: 0.4795\n",
            "Epoch 30/50\n",
            "488/488 [==============================] - 1s 2ms/step - loss: 1.0357 - accuracy: 0.4790\n",
            "Epoch 31/50\n",
            "488/488 [==============================] - 1s 2ms/step - loss: 1.0356 - accuracy: 0.4794\n",
            "Epoch 32/50\n",
            "488/488 [==============================] - 1s 2ms/step - loss: 1.0356 - accuracy: 0.4791\n",
            "Epoch 33/50\n",
            "488/488 [==============================] - 1s 2ms/step - loss: 1.0356 - accuracy: 0.4794\n",
            "Epoch 34/50\n",
            "488/488 [==============================] - 1s 2ms/step - loss: 1.0357 - accuracy: 0.4796\n",
            "Epoch 35/50\n",
            "488/488 [==============================] - 1s 2ms/step - loss: 1.0353 - accuracy: 0.4795\n",
            "Epoch 36/50\n",
            "488/488 [==============================] - 1s 2ms/step - loss: 1.0352 - accuracy: 0.4800\n",
            "Epoch 37/50\n",
            "488/488 [==============================] - 1s 3ms/step - loss: 1.0353 - accuracy: 0.4798\n",
            "Epoch 38/50\n",
            "488/488 [==============================] - 1s 2ms/step - loss: 1.0354 - accuracy: 0.4794\n",
            "Epoch 39/50\n",
            "488/488 [==============================] - 1s 2ms/step - loss: 1.0353 - accuracy: 0.4796\n",
            "Epoch 40/50\n",
            "488/488 [==============================] - 1s 2ms/step - loss: 1.0355 - accuracy: 0.4790\n",
            "Epoch 41/50\n",
            "488/488 [==============================] - 1s 2ms/step - loss: 1.0353 - accuracy: 0.4797\n",
            "Epoch 42/50\n",
            "488/488 [==============================] - 1s 2ms/step - loss: 1.0353 - accuracy: 0.4801\n",
            "Epoch 43/50\n",
            "488/488 [==============================] - 1s 2ms/step - loss: 1.0355 - accuracy: 0.4786\n",
            "Epoch 44/50\n",
            "488/488 [==============================] - 1s 2ms/step - loss: 1.0355 - accuracy: 0.4795\n",
            "Epoch 45/50\n",
            "488/488 [==============================] - 1s 2ms/step - loss: 1.0352 - accuracy: 0.4804\n",
            "Epoch 46/50\n",
            "488/488 [==============================] - 1s 2ms/step - loss: 1.0353 - accuracy: 0.4794\n",
            "Epoch 47/50\n",
            "488/488 [==============================] - 1s 2ms/step - loss: 1.0351 - accuracy: 0.4798\n",
            "Epoch 48/50\n",
            "488/488 [==============================] - 1s 2ms/step - loss: 1.0353 - accuracy: 0.4794\n",
            "Epoch 49/50\n",
            "488/488 [==============================] - 1s 2ms/step - loss: 1.0352 - accuracy: 0.4797\n",
            "Epoch 50/50\n",
            "488/488 [==============================] - 1s 2ms/step - loss: 1.0351 - accuracy: 0.4796\n"
          ],
          "name": "stdout"
        },
        {
          "output_type": "execute_result",
          "data": {
            "text/plain": [
              "0.4445250928401947"
            ]
          },
          "metadata": {
            "tags": []
          },
          "execution_count": 135
        }
      ]
    },
    {
      "cell_type": "markdown",
      "metadata": {
        "id": "ztDEHOm1NFtk"
      },
      "source": [
        "### As result we got low quality. The reason of it can be lack of initial data as (62460, 1, 3) array  "
      ]
    },
    {
      "cell_type": "markdown",
      "metadata": {
        "id": "8hj-XoUNd6Kb"
      },
      "source": [
        "# TSFresh feature extractor"
      ]
    },
    {
      "cell_type": "markdown",
      "metadata": {
        "id": "rsYkt_2qNeec"
      },
      "source": [
        "### Using of TSFresh in order to extend dataset. Based on main principal of module before start common waveform will be split for 90 numbers of different trends. It`ll make possible to create 90 rows with 15 features and 1 column for labels"
      ]
    },
    {
      "cell_type": "code",
      "metadata": {
        "colab": {
          "base_uri": "https://localhost:8080/"
        },
        "id": "Lp24qo5u-Y1x",
        "outputId": "c54139d3-c322-4597-ac6e-15be96a5958a"
      },
      "source": [
        "data = pd.read_csv(DATA_STORAGE + 'for_model.csv')\n",
        "data.head()\n",
        "len(data)"
      ],
      "execution_count": null,
      "outputs": [
        {
          "output_type": "execute_result",
          "data": {
            "text/plain": [
              "343229"
            ]
          },
          "metadata": {
            "tags": []
          },
          "execution_count": 4
        }
      ]
    },
    {
      "cell_type": "code",
      "metadata": {
        "id": "Rxkmw-p_m_o-"
      },
      "source": [
        "# Function for small preprocessing\n",
        "def data_tsfresh(data):\n",
        "  df  = data.copy()\n",
        "  df.drop(['Unnamed: 0'], axis = 1, inplace = True)\n",
        "  df = df[(df['train'] != 'train')&(df['y_filt'] != 'y_filt')&(df['time_linear'] != 'time_linear')&(df['id'] != 'id')]\n",
        "  marks = []\n",
        "  df['train'] = df['train'].apply(lambda x: int(x))\n",
        "  df['y_filt'] = df['y_filt'].apply(lambda x: float(x))\n",
        "  # df.drop(['time_linear'], axis = 1, inplace = True)\n",
        "  df['id'] = df['id'].apply(lambda x: int(x))\n",
        "  # df = df[df['train'] > 0]\n",
        "  return df"
      ],
      "execution_count": null,
      "outputs": []
    },
    {
      "cell_type": "code",
      "metadata": {
        "id": "eR0U8pzMdoww"
      },
      "source": [
        "data_fresh = data_tsfresh(data)\n",
        "id_list = set(data_fresh['id'].values)"
      ],
      "execution_count": null,
      "outputs": []
    },
    {
      "cell_type": "code",
      "metadata": {
        "colab": {
          "base_uri": "https://localhost:8080/",
          "height": 419
        },
        "id": "2kS8EoEBo3Kb",
        "outputId": "14690eeb-6899-4d3e-a748-f05d4201c876"
      },
      "source": [
        "data_fresh[data_fresh['id'] == 0]"
      ],
      "execution_count": null,
      "outputs": [
        {
          "output_type": "execute_result",
          "data": {
            "text/html": [
              "<div>\n",
              "<style scoped>\n",
              "    .dataframe tbody tr th:only-of-type {\n",
              "        vertical-align: middle;\n",
              "    }\n",
              "\n",
              "    .dataframe tbody tr th {\n",
              "        vertical-align: top;\n",
              "    }\n",
              "\n",
              "    .dataframe thead th {\n",
              "        text-align: right;\n",
              "    }\n",
              "</style>\n",
              "<table border=\"1\" class=\"dataframe\">\n",
              "  <thead>\n",
              "    <tr style=\"text-align: right;\">\n",
              "      <th></th>\n",
              "      <th>y_filt</th>\n",
              "      <th>time_linear</th>\n",
              "      <th>train</th>\n",
              "      <th>id</th>\n",
              "    </tr>\n",
              "  </thead>\n",
              "  <tbody>\n",
              "    <tr>\n",
              "      <th>0</th>\n",
              "      <td>0.002913</td>\n",
              "      <td>2019-04-01T06:40:58.884450Z</td>\n",
              "      <td>0</td>\n",
              "      <td>0</td>\n",
              "    </tr>\n",
              "    <tr>\n",
              "      <th>1</th>\n",
              "      <td>0.086276</td>\n",
              "      <td>2019-04-01T06:40:58.909450Z</td>\n",
              "      <td>0</td>\n",
              "      <td>0</td>\n",
              "    </tr>\n",
              "    <tr>\n",
              "      <th>2</th>\n",
              "      <td>-0.027060</td>\n",
              "      <td>2019-04-01T06:40:58.934450Z</td>\n",
              "      <td>0</td>\n",
              "      <td>0</td>\n",
              "    </tr>\n",
              "    <tr>\n",
              "      <th>3</th>\n",
              "      <td>-0.108973</td>\n",
              "      <td>2019-04-01T06:40:58.959450Z</td>\n",
              "      <td>0</td>\n",
              "      <td>0</td>\n",
              "    </tr>\n",
              "    <tr>\n",
              "      <th>4</th>\n",
              "      <td>0.040318</td>\n",
              "      <td>2019-04-01T06:40:58.984450Z</td>\n",
              "      <td>0</td>\n",
              "      <td>0</td>\n",
              "    </tr>\n",
              "    <tr>\n",
              "      <th>...</th>\n",
              "      <td>...</td>\n",
              "      <td>...</td>\n",
              "      <td>...</td>\n",
              "      <td>...</td>\n",
              "    </tr>\n",
              "    <tr>\n",
              "      <th>52797</th>\n",
              "      <td>0.105697</td>\n",
              "      <td>2019-04-01T23:43:09.289450Z</td>\n",
              "      <td>1</td>\n",
              "      <td>0</td>\n",
              "    </tr>\n",
              "    <tr>\n",
              "      <th>52798</th>\n",
              "      <td>0.225396</td>\n",
              "      <td>2019-04-01T23:43:09.314450Z</td>\n",
              "      <td>1</td>\n",
              "      <td>0</td>\n",
              "    </tr>\n",
              "    <tr>\n",
              "      <th>52799</th>\n",
              "      <td>-0.054952</td>\n",
              "      <td>2019-04-01T23:43:09.339450Z</td>\n",
              "      <td>1</td>\n",
              "      <td>0</td>\n",
              "    </tr>\n",
              "    <tr>\n",
              "      <th>52800</th>\n",
              "      <td>-0.614901</td>\n",
              "      <td>2019-04-01T23:43:09.364450Z</td>\n",
              "      <td>1</td>\n",
              "      <td>0</td>\n",
              "    </tr>\n",
              "    <tr>\n",
              "      <th>52801</th>\n",
              "      <td>-0.837205</td>\n",
              "      <td>2019-04-01T23:43:09.389450Z</td>\n",
              "      <td>1</td>\n",
              "      <td>0</td>\n",
              "    </tr>\n",
              "  </tbody>\n",
              "</table>\n",
              "<p>52800 rows × 4 columns</p>\n",
              "</div>"
            ],
            "text/plain": [
              "         y_filt                  time_linear  train  id\n",
              "0      0.002913  2019-04-01T06:40:58.884450Z      0   0\n",
              "1      0.086276  2019-04-01T06:40:58.909450Z      0   0\n",
              "2     -0.027060  2019-04-01T06:40:58.934450Z      0   0\n",
              "3     -0.108973  2019-04-01T06:40:58.959450Z      0   0\n",
              "4      0.040318  2019-04-01T06:40:58.984450Z      0   0\n",
              "...         ...                          ...    ...  ..\n",
              "52797  0.105697  2019-04-01T23:43:09.289450Z      1   0\n",
              "52798  0.225396  2019-04-01T23:43:09.314450Z      1   0\n",
              "52799 -0.054952  2019-04-01T23:43:09.339450Z      1   0\n",
              "52800 -0.614901  2019-04-01T23:43:09.364450Z      1   0\n",
              "52801 -0.837205  2019-04-01T23:43:09.389450Z      1   0\n",
              "\n",
              "[52800 rows x 4 columns]"
            ]
          },
          "metadata": {
            "tags": []
          },
          "execution_count": 14
        }
      ]
    },
    {
      "cell_type": "markdown",
      "metadata": {
        "id": "xNyaHf5GwKuc"
      },
      "source": [
        "### # Split of waveform for different parts with individual ID for TSFresh. Overall quantity is 90 "
      ]
    },
    {
      "cell_type": "code",
      "metadata": {
        "id": "KtS002LrKQqS"
      },
      "source": [
        "\n",
        "for_tsfresh = pd.DataFrame()\n",
        "count = 0\n",
        "for id in list(id_list):\n",
        "  index_low = int(len(data_fresh[data_fresh['id'] == id])/3) # 1/3 of dataset\n",
        "  index_high = int(len(data_fresh[data_fresh['id'] == id])/3) + int(len(data_fresh[data_fresh['id'] == id])/3) # 2/3 of dataset\n",
        "  first = data_fresh[data_fresh['id']==id][:index_low]\n",
        "  second = data_fresh[data_fresh['id']==id][index_low:index_high]\n",
        "  third = data_fresh[data_fresh['id']==id][index_high:]\n",
        "  first_s = first[first['train'] == 1]\n",
        "  first_s['id'] = count\n",
        "  first_p = first[first['train'] == 2]\n",
        "  first_p['id'] = count + 1 \n",
        "  first_free = first[first['train'] == 0]\n",
        "  first_free['id'] = count + 2\n",
        "  second_s = second[second['train'] == 1]\n",
        "  second_s['id'] = count + 3\n",
        "  second_p = second[second['train'] == 2]\n",
        "  second_p['id'] = count + 4\n",
        "  second_free = second[second['train'] == 0]\n",
        "  second_free['id'] = count + 5\n",
        "  third_s = third[third['train'] == 1]\n",
        "  third_s['id'] = count + 6\n",
        "  third_p = third[third['train'] == 2]\n",
        "  third_p['id'] = count +7\n",
        "  third_free = third[third['train'] == 0]\n",
        "  third_free['id'] = count + 8\n",
        "  for_tsfresh = for_tsfresh.append([first_s, first_p, first_free, second_s, second_p, second_free, third_s, third_p, third_free])\n",
        "  count += 9"
      ],
      "execution_count": null,
      "outputs": []
    },
    {
      "cell_type": "code",
      "metadata": {
        "colab": {
          "base_uri": "https://localhost:8080/",
          "height": 419
        },
        "id": "GpL_j2G_qct4",
        "outputId": "c93fc6c5-d31d-4051-edea-e638906652c6"
      },
      "source": [
        "for_tsfresh"
      ],
      "execution_count": null,
      "outputs": [
        {
          "output_type": "execute_result",
          "data": {
            "text/html": [
              "<div>\n",
              "<style scoped>\n",
              "    .dataframe tbody tr th:only-of-type {\n",
              "        vertical-align: middle;\n",
              "    }\n",
              "\n",
              "    .dataframe tbody tr th {\n",
              "        vertical-align: top;\n",
              "    }\n",
              "\n",
              "    .dataframe thead th {\n",
              "        text-align: right;\n",
              "    }\n",
              "</style>\n",
              "<table border=\"1\" class=\"dataframe\">\n",
              "  <thead>\n",
              "    <tr style=\"text-align: right;\">\n",
              "      <th></th>\n",
              "      <th>y_filt</th>\n",
              "      <th>time_linear</th>\n",
              "      <th>train</th>\n",
              "      <th>id</th>\n",
              "    </tr>\n",
              "  </thead>\n",
              "  <tbody>\n",
              "    <tr>\n",
              "      <th>224</th>\n",
              "      <td>-0.110127</td>\n",
              "      <td>2019-04-01T06:41:04.484450Z</td>\n",
              "      <td>1</td>\n",
              "      <td>0</td>\n",
              "    </tr>\n",
              "    <tr>\n",
              "      <th>225</th>\n",
              "      <td>-0.154291</td>\n",
              "      <td>2019-04-01T06:41:04.509450Z</td>\n",
              "      <td>1</td>\n",
              "      <td>0</td>\n",
              "    </tr>\n",
              "    <tr>\n",
              "      <th>226</th>\n",
              "      <td>-0.105978</td>\n",
              "      <td>2019-04-01T06:41:04.534450Z</td>\n",
              "      <td>1</td>\n",
              "      <td>0</td>\n",
              "    </tr>\n",
              "    <tr>\n",
              "      <th>227</th>\n",
              "      <td>-0.038131</td>\n",
              "      <td>2019-04-01T06:41:04.559450Z</td>\n",
              "      <td>1</td>\n",
              "      <td>0</td>\n",
              "    </tr>\n",
              "    <tr>\n",
              "      <th>228</th>\n",
              "      <td>0.027139</td>\n",
              "      <td>2019-04-01T06:41:04.584450Z</td>\n",
              "      <td>1</td>\n",
              "      <td>0</td>\n",
              "    </tr>\n",
              "    <tr>\n",
              "      <th>...</th>\n",
              "      <td>...</td>\n",
              "      <td>...</td>\n",
              "      <td>...</td>\n",
              "      <td>...</td>\n",
              "    </tr>\n",
              "    <tr>\n",
              "      <th>343022</th>\n",
              "      <td>-2.442529</td>\n",
              "      <td>2019-04-10T20:33:59.969500Z</td>\n",
              "      <td>0</td>\n",
              "      <td>89</td>\n",
              "    </tr>\n",
              "    <tr>\n",
              "      <th>343023</th>\n",
              "      <td>-0.690547</td>\n",
              "      <td>2019-04-10T20:33:59.994500Z</td>\n",
              "      <td>0</td>\n",
              "      <td>89</td>\n",
              "    </tr>\n",
              "    <tr>\n",
              "      <th>343024</th>\n",
              "      <td>1.750333</td>\n",
              "      <td>2019-04-10T20:34:00.019500Z</td>\n",
              "      <td>0</td>\n",
              "      <td>89</td>\n",
              "    </tr>\n",
              "    <tr>\n",
              "      <th>343025</th>\n",
              "      <td>2.988089</td>\n",
              "      <td>2019-04-10T20:34:00.044500Z</td>\n",
              "      <td>0</td>\n",
              "      <td>89</td>\n",
              "    </tr>\n",
              "    <tr>\n",
              "      <th>343026</th>\n",
              "      <td>2.144290</td>\n",
              "      <td>2019-04-10T20:34:00.069500Z</td>\n",
              "      <td>0</td>\n",
              "      <td>89</td>\n",
              "    </tr>\n",
              "  </tbody>\n",
              "</table>\n",
              "<p>343200 rows × 4 columns</p>\n",
              "</div>"
            ],
            "text/plain": [
              "          y_filt                  time_linear  train  id\n",
              "224    -0.110127  2019-04-01T06:41:04.484450Z      1   0\n",
              "225    -0.154291  2019-04-01T06:41:04.509450Z      1   0\n",
              "226    -0.105978  2019-04-01T06:41:04.534450Z      1   0\n",
              "227    -0.038131  2019-04-01T06:41:04.559450Z      1   0\n",
              "228     0.027139  2019-04-01T06:41:04.584450Z      1   0\n",
              "...          ...                          ...    ...  ..\n",
              "343022 -2.442529  2019-04-10T20:33:59.969500Z      0  89\n",
              "343023 -0.690547  2019-04-10T20:33:59.994500Z      0  89\n",
              "343024  1.750333  2019-04-10T20:34:00.019500Z      0  89\n",
              "343025  2.988089  2019-04-10T20:34:00.044500Z      0  89\n",
              "343026  2.144290  2019-04-10T20:34:00.069500Z      0  89\n",
              "\n",
              "[343200 rows x 4 columns]"
            ]
          },
          "metadata": {
            "tags": []
          },
          "execution_count": 17
        }
      ]
    },
    {
      "cell_type": "code",
      "metadata": {
        "id": "ihRBpabMn3A7"
      },
      "source": [
        "def featuresTSFresh(data, N):    \n",
        "    global featuresDF\n",
        "    ## список фич (см. документацию по TSFresh: https://media.readthedocs.org/pdf/tsfresh/latest/tsfresh.pdf)\n",
        "    extraction_settings = \\\n",
        "    {\n",
        "        ## признак: параметр\n",
        "        \"maximum\": None,\n",
        "        \"mean\": None,\n",
        "        \"minimum\": None,\n",
        "        \"median\": None,\n",
        "        \"standard_deviation\": None,\n",
        "        \"binned_entropy\": [{\"max_bins\" : 10}],\n",
        "        \"count_above_mean\": None,\n",
        "        \"count_below_mean\": None,\n",
        "        \"first_location_of_maximum\": None,\n",
        "        \"first_location_of_minimum\": None,\n",
        "        \"mean_change\": None,\n",
        "        \"sum_values\": None,\n",
        "        \"kurtosis\": None,\n",
        "        \"skewness\": None,\n",
        "        \"abs_energy\": None        \n",
        "    }\n",
        "\n",
        "    ## извлечение фич из данных    \n",
        "    featuresDF = extract_features(\n",
        "        data, \n",
        "        column_id='id',  ## номер временного ряда\n",
        "        column_sort='time_linear', ## ось времени\n",
        "        default_fc_parameters=extraction_settings, ## список фич, которые хотим извлечь\n",
        "        impute_function=impute                     ## заменить все inf и NaN\n",
        "    )\n",
        "    \n",
        "    ## вытаскиваем колонку id из индекса \n",
        "    featuresDF = featuresDF.reset_index()\n",
        "    featuresDF['label'] = N\n",
        "    print('Label: ', N)\n",
        "    # featuresDF = featuresDF.append(featuresDF)\n",
        "    featuresDF.to_csv('features_2.csv', mode = 'a') \n",
        "    !cp features_2.csv \"/content/drive/MyDrive/Colab Notebooks/Data/\"\n",
        "    return featuresDF\n",
        "\n",
        "## убираем колонку class из данных (мы не хотим из неё извлекать фичи)\n",
        "# features = featuresTSFresh(df_s, 1)\n",
        "# features = featuresTSFresh(df_p, 2)\n",
        "# features = featuresTSFresh(df_free, 0)\n",
        "## помечаем ряды (добавляем обратно первый и второй класс)\n",
        "# features['label'] = 0\n",
        "# features['label'].iloc[N:] = 1\n",
        "\n",
        "# print('data.shape =', df.shape)\n",
        "# print('features.shape =', features.shape)\n",
        "# features.head(3)"
      ],
      "execution_count": null,
      "outputs": []
    },
    {
      "cell_type": "code",
      "metadata": {
        "colab": {
          "base_uri": "https://localhost:8080/"
        },
        "id": "rbj9RPeh7Lse",
        "outputId": "38e318a0-0b59-4b83-a11c-5f8657dbbdf1"
      },
      "source": [
        "data_tsfresh = pd.DataFrame()\n",
        "for N in list(set(for_tsfresh['train'].values)):\n",
        "  intermediate_df = for_tsfresh[for_tsfresh['train'] == N]\n",
        "  temp = featuresTSFresh(intermediate_df.drop('train', axis = 1), N)\n",
        "  \n",
        " \n",
        "  "
      ],
      "execution_count": null,
      "outputs": [
        {
          "output_type": "stream",
          "text": [
            "Feature Extraction: 100%|██████████| 5/5 [00:00<00:00, 22.79it/s]\n"
          ],
          "name": "stderr"
        },
        {
          "output_type": "stream",
          "text": [
            "Label:  0\n"
          ],
          "name": "stdout"
        },
        {
          "output_type": "stream",
          "text": [
            "Feature Extraction: 100%|██████████| 5/5 [00:00<00:00, 28.21it/s]\n"
          ],
          "name": "stderr"
        },
        {
          "output_type": "stream",
          "text": [
            "Label:  1\n"
          ],
          "name": "stdout"
        },
        {
          "output_type": "stream",
          "text": [
            "Feature Extraction: 100%|██████████| 5/5 [00:00<00:00, 35.96it/s]\n"
          ],
          "name": "stderr"
        },
        {
          "output_type": "stream",
          "text": [
            "Label:  2\n"
          ],
          "name": "stdout"
        }
      ]
    },
    {
      "cell_type": "markdown",
      "metadata": {
        "id": "cTE03HI3tBdE"
      },
      "source": [
        "## Uploading data from TSFresh"
      ]
    },
    {
      "cell_type": "code",
      "metadata": {
        "id": "TUIM2AsgFIZG"
      },
      "source": [
        "data = pd.read_csv(DATA_STORAGE + 'features_2.csv')\n",
        "data.drop(['Unnamed: 0','index'], axis = 1, inplace = True)\n",
        "data = data[data['y_filt__maximum'] != 'y_filt__maximum']\n",
        "for col in data.columns:\n",
        "  data[col] = data[col].astype(float)\n",
        "\n",
        "# data.info()"
      ],
      "execution_count": null,
      "outputs": []
    },
    {
      "cell_type": "code",
      "metadata": {
        "colab": {
          "base_uri": "https://localhost:8080/",
          "height": 213
        },
        "id": "ve1HxTfLPLXX",
        "outputId": "51ee0ae1-5d0c-46a9-c196-d6d42fb98bfc"
      },
      "source": [
        "data.head(3)"
      ],
      "execution_count": null,
      "outputs": [
        {
          "output_type": "execute_result",
          "data": {
            "text/html": [
              "<div>\n",
              "<style scoped>\n",
              "    .dataframe tbody tr th:only-of-type {\n",
              "        vertical-align: middle;\n",
              "    }\n",
              "\n",
              "    .dataframe tbody tr th {\n",
              "        vertical-align: top;\n",
              "    }\n",
              "\n",
              "    .dataframe thead th {\n",
              "        text-align: right;\n",
              "    }\n",
              "</style>\n",
              "<table border=\"1\" class=\"dataframe\">\n",
              "  <thead>\n",
              "    <tr style=\"text-align: right;\">\n",
              "      <th></th>\n",
              "      <th>y_filt__maximum</th>\n",
              "      <th>y_filt__mean</th>\n",
              "      <th>y_filt__minimum</th>\n",
              "      <th>y_filt__median</th>\n",
              "      <th>y_filt__standard_deviation</th>\n",
              "      <th>y_filt__binned_entropy__max_bins_10</th>\n",
              "      <th>y_filt__count_above_mean</th>\n",
              "      <th>y_filt__count_below_mean</th>\n",
              "      <th>y_filt__first_location_of_maximum</th>\n",
              "      <th>y_filt__first_location_of_minimum</th>\n",
              "      <th>y_filt__mean_change</th>\n",
              "      <th>y_filt__sum_values</th>\n",
              "      <th>y_filt__kurtosis</th>\n",
              "      <th>y_filt__skewness</th>\n",
              "      <th>y_filt__abs_energy</th>\n",
              "      <th>label</th>\n",
              "    </tr>\n",
              "  </thead>\n",
              "  <tbody>\n",
              "    <tr>\n",
              "      <th>0</th>\n",
              "      <td>17.0727052061</td>\n",
              "      <td>-0.0016761967477931141</td>\n",
              "      <td>-20.1820701821</td>\n",
              "      <td>-0.000287374222316</td>\n",
              "      <td>1.1268462992545594</td>\n",
              "      <td>0.13413748333190087</td>\n",
              "      <td>4457.0</td>\n",
              "      <td>4137.0</td>\n",
              "      <td>0.9570630672562253</td>\n",
              "      <td>0.9575285082615779</td>\n",
              "      <td>-1.9173999200160594e-05</td>\n",
              "      <td>-14.405234850534022</td>\n",
              "      <td>110.15516560321583</td>\n",
              "      <td>-1.20658817083739</td>\n",
              "      <td>10912.53565695073</td>\n",
              "      <td>0</td>\n",
              "    </tr>\n",
              "    <tr>\n",
              "      <th>1</th>\n",
              "      <td>17.0330512798</td>\n",
              "      <td>0.0023291533930377036</td>\n",
              "      <td>-17.9107089343</td>\n",
              "      <td>-0.000153610906673</td>\n",
              "      <td>1.352281497878664</td>\n",
              "      <td>0.2176565719307299</td>\n",
              "      <td>3962.0</td>\n",
              "      <td>4474.0</td>\n",
              "      <td>0.9506875296348981</td>\n",
              "      <td>0.9210526315789473</td>\n",
              "      <td>-1.7399251904090104e-05</td>\n",
              "      <td>19.648738023666066</td>\n",
              "      <td>65.51326292961417</td>\n",
              "      <td>0.12096006878147043</td>\n",
              "      <td>15426.665809748705</td>\n",
              "      <td>0</td>\n",
              "    </tr>\n",
              "    <tr>\n",
              "      <th>2</th>\n",
              "      <td>60.5251231416</td>\n",
              "      <td>-0.0008036833609931928</td>\n",
              "      <td>-51.3611012316</td>\n",
              "      <td>6.3604847248e-05</td>\n",
              "      <td>4.671329033153107</td>\n",
              "      <td>0.27925550391251625</td>\n",
              "      <td>4077.0</td>\n",
              "      <td>3925.0</td>\n",
              "      <td>0.8555361159710072</td>\n",
              "      <td>0.8562859285178706</td>\n",
              "      <td>7.271694866062991e-05</td>\n",
              "      <td>-6.431074254667529</td>\n",
              "      <td>52.64369256022764</td>\n",
              "      <td>0.12352230441648879</td>\n",
              "      <td>174614.1672862525</td>\n",
              "      <td>0</td>\n",
              "    </tr>\n",
              "  </tbody>\n",
              "</table>\n",
              "</div>"
            ],
            "text/plain": [
              "  y_filt__maximum            y_filt__mean  ...  y_filt__abs_energy label\n",
              "0   17.0727052061  -0.0016761967477931141  ...   10912.53565695073     0\n",
              "1   17.0330512798   0.0023291533930377036  ...  15426.665809748705     0\n",
              "2   60.5251231416  -0.0008036833609931928  ...   174614.1672862525     0\n",
              "\n",
              "[3 rows x 16 columns]"
            ]
          },
          "metadata": {
            "tags": []
          },
          "execution_count": 23
        }
      ]
    },
    {
      "cell_type": "code",
      "metadata": {
        "id": "rqO_inZRaI73"
      },
      "source": [
        "df_s = data[data['label'] == 1].drop(['label'], axis = 1)\n",
        "df_p = data[data['label'] == 2].drop(['label'], axis = 1)\n",
        "df_free = data[data['label'] == 0].drop(['label'], axis = 1)\n",
        "y_train = data['label'].values \n",
        "y = to_categorical(y_train)"
      ],
      "execution_count": null,
      "outputs": []
    },
    {
      "cell_type": "code",
      "metadata": {
        "colab": {
          "base_uri": "https://localhost:8080/"
        },
        "id": "VRJBZZvmdrOU",
        "outputId": "dbdfe9dd-5ea7-46fa-b254-6efee1b25a55"
      },
      "source": [
        "df_s.shape, df_p.shape, df_free.shape, y.shape"
      ],
      "execution_count": null,
      "outputs": [
        {
          "output_type": "execute_result",
          "data": {
            "text/plain": [
              "((60, 15), (60, 15), (60, 15), (180, 3))"
            ]
          },
          "metadata": {
            "tags": []
          },
          "execution_count": 80
        }
      ]
    },
    {
      "cell_type": "code",
      "metadata": {
        "id": "HfwPIzhn88_x"
      },
      "source": [
        "df_s = data[data['label'] == 1].drop(['label'], axis = 1).values\n",
        "df_p = data[data['label'] == 2].drop(['label'], axis = 1).values\n",
        "df_free = data[data['label'] == 0].drop(['label'], axis = 1).values\n",
        "y_s = data[data['label'] == 1]['label'].values\n",
        "y_p = data[data['label'] == 2]['label'].values\n",
        "y_free = data[data['label'] == 0]['label'].values\n",
        "# y = to_categorical(y_train)"
      ],
      "execution_count": null,
      "outputs": []
    },
    {
      "cell_type": "markdown",
      "metadata": {
        "id": "cNSwkv2DXw3w"
      },
      "source": [
        "# Random Forest Classifier"
      ]
    },
    {
      "cell_type": "markdown",
      "metadata": {
        "id": "pQSs_WnLPb1G"
      },
      "source": [
        "### As a main model RandomForest classifier will be used with multiclass fit/prediction"
      ]
    },
    {
      "cell_type": "code",
      "metadata": {
        "colab": {
          "base_uri": "https://localhost:8080/"
        },
        "id": "Q5fXd1bDX0ES",
        "outputId": "615b7fed-b4d9-4f76-e866-0c92f517e302"
      },
      "source": [
        "# For data upload slice must be used because by mistake data was uploaded to file twice.\n",
        "data = pd.read_csv(DATA_STORAGE + 'features_2.csv')[:94]\n",
        "data.drop(['Unnamed: 0','index'], axis = 1, inplace = True)\n",
        "data = data[data['y_filt__maximum'] != 'y_filt__maximum']\n",
        "data.info()"
      ],
      "execution_count": null,
      "outputs": [
        {
          "output_type": "stream",
          "text": [
            "<class 'pandas.core.frame.DataFrame'>\n",
            "Int64Index: 91 entries, 0 to 93\n",
            "Data columns (total 16 columns):\n",
            " #   Column                               Non-Null Count  Dtype \n",
            "---  ------                               --------------  ----- \n",
            " 0   y_filt__maximum                      91 non-null     object\n",
            " 1   y_filt__mean                         91 non-null     object\n",
            " 2   y_filt__minimum                      91 non-null     object\n",
            " 3   y_filt__median                       91 non-null     object\n",
            " 4   y_filt__standard_deviation           91 non-null     object\n",
            " 5   y_filt__binned_entropy__max_bins_10  91 non-null     object\n",
            " 6   y_filt__count_above_mean             91 non-null     object\n",
            " 7   y_filt__count_below_mean             91 non-null     object\n",
            " 8   y_filt__first_location_of_maximum    91 non-null     object\n",
            " 9   y_filt__first_location_of_minimum    91 non-null     object\n",
            " 10  y_filt__mean_change                  91 non-null     object\n",
            " 11  y_filt__sum_values                   91 non-null     object\n",
            " 12  y_filt__kurtosis                     91 non-null     object\n",
            " 13  y_filt__skewness                     91 non-null     object\n",
            " 14  y_filt__abs_energy                   91 non-null     object\n",
            " 15  label                                91 non-null     object\n",
            "dtypes: object(16)\n",
            "memory usage: 12.1+ KB\n"
          ],
          "name": "stdout"
        }
      ]
    },
    {
      "cell_type": "code",
      "metadata": {
        "colab": {
          "base_uri": "https://localhost:8080/"
        },
        "id": "9_Wl6oxIl7QS",
        "outputId": "e4ba4360-af89-42fe-b094-0f60e6f7c1b1"
      },
      "source": [
        "dataset = data.copy()\n",
        "print(dataset.shape)"
      ],
      "execution_count": null,
      "outputs": [
        {
          "output_type": "stream",
          "text": [
            "(91, 16)\n"
          ],
          "name": "stdout"
        }
      ]
    },
    {
      "cell_type": "code",
      "metadata": {
        "colab": {
          "base_uri": "https://localhost:8080/"
        },
        "id": "f8Pv4FpPWn2n",
        "outputId": "6e1e4832-48c2-472d-dbe1-e31436deef3f"
      },
      "source": [
        "factor = pd.factorize(dataset['label'])\n",
        "dataset.species = factor[0]\n",
        "definitions = factor[1]\n",
        "print(dataset.label.head())\n",
        "print(definitions)\n"
      ],
      "execution_count": null,
      "outputs": [
        {
          "output_type": "stream",
          "text": [
            "0    0\n",
            "1    0\n",
            "2    0\n",
            "3    0\n",
            "4    0\n",
            "Name: label, dtype: object\n",
            "Index(['0', '1', '2'], dtype='object')\n"
          ],
          "name": "stdout"
        }
      ]
    },
    {
      "cell_type": "code",
      "metadata": {
        "colab": {
          "base_uri": "https://localhost:8080/"
        },
        "id": "FsNvGGaJXTgF",
        "outputId": "eebc99f8-6dcc-43cd-c048-d14b8161fbc8"
      },
      "source": [
        "#Splitting the data into independent and dependent variables\n",
        "X = dataset.iloc[:,0:15].values\n",
        "y = dataset.iloc[:,15].values\n",
        "print('The independent features set: ')\n",
        "print(X[:2,:])\n",
        "print('The dependent variable: ')\n",
        "print(y[:5])"
      ],
      "execution_count": null,
      "outputs": [
        {
          "output_type": "stream",
          "text": [
            "The independent features set: \n",
            "[['17.0727052061' '-0.0016761967477931141' '-20.1820701821'\n",
            "  '-0.000287374222316' '1.1268462992545594' '0.13413748333190087'\n",
            "  '4457.0' '4137.0' '0.9570630672562253' '0.9575285082615779'\n",
            "  '-1.9173999200160594e-05' '-14.405234850534022' '110.15516560321583'\n",
            "  '-1.20658817083739' '10912.53565695073']\n",
            " ['17.0330512798' '0.0023291533930377036' '-17.9107089343'\n",
            "  '-0.000153610906673' '1.352281497878664' '0.2176565719307299' '3962.0'\n",
            "  '4474.0' '0.9506875296348981' '0.9210526315789473'\n",
            "  '-1.7399251904090104e-05' '19.648738023666066' '65.51326292961417'\n",
            "  '0.12096006878147043' '15426.665809748705']]\n",
            "The dependent variable: \n",
            "['0' '0' '0' '0' '0']\n"
          ],
          "name": "stdout"
        }
      ]
    },
    {
      "cell_type": "code",
      "metadata": {
        "id": "SOpI2dSsYo6r"
      },
      "source": [
        "# Creating the Training and Test set from data\n",
        "X_train, X_test, y_train, y_test = train_test_split(X, y, test_size = 0.3, random_state = 42)"
      ],
      "execution_count": null,
      "outputs": []
    },
    {
      "cell_type": "markdown",
      "metadata": {
        "id": "Gux41--R39Fh"
      },
      "source": [
        "params = {'n_estimators': 500, 'max_depth': 4, 'min_samples_split': 4, 'max_features' : 1, 'class_weight' : 'balanced',\n",
        "         'random_state': 42}"
      ]
    },
    {
      "cell_type": "code",
      "metadata": {
        "colab": {
          "base_uri": "https://localhost:8080/"
        },
        "id": "DsGwdeuXbLub",
        "outputId": "636cb27b-00db-4003-cf0d-2933b72e2472"
      },
      "source": [
        "# Fitting Random Forest Classification on the training set\n",
        "classifier = RandomForestClassifier(n_estimators = 1000, max_depth=4, max_features='auto', min_samples_split = 2, criterion = 'entropy', random_state = 42)\n",
        "classifier.fit(X_train, y_train)"
      ],
      "execution_count": null,
      "outputs": [
        {
          "output_type": "execute_result",
          "data": {
            "text/plain": [
              "RandomForestClassifier(bootstrap=True, ccp_alpha=0.0, class_weight=None,\n",
              "                       criterion='entropy', max_depth=4, max_features='auto',\n",
              "                       max_leaf_nodes=None, max_samples=None,\n",
              "                       min_impurity_decrease=0.0, min_impurity_split=None,\n",
              "                       min_samples_leaf=1, min_samples_split=2,\n",
              "                       min_weight_fraction_leaf=0.0, n_estimators=1000,\n",
              "                       n_jobs=None, oob_score=False, random_state=42, verbose=0,\n",
              "                       warm_start=False)"
            ]
          },
          "metadata": {
            "tags": []
          },
          "execution_count": 44
        }
      ]
    },
    {
      "cell_type": "code",
      "metadata": {
        "colab": {
          "base_uri": "https://localhost:8080/"
        },
        "id": "bUI0OaFhbc-K",
        "outputId": "333201d9-1bb3-4dab-8d32-3c1c7901aae0"
      },
      "source": [
        "# Predicting the Test set results\n",
        "y_pred = classifier.predict(X_test)\n",
        "reversefactor = dict(zip(range(3),definitions))\n",
        "# Making the Confusion Matrix\n",
        "print(pd.crosstab(y_test, y_pred, rownames=['Actual classes'], colnames=['Predicted Species']))"
      ],
      "execution_count": null,
      "outputs": [
        {
          "output_type": "stream",
          "text": [
            "Predicted Species  0  1  2\n",
            "Actual classes            \n",
            "0                  6  3  1\n",
            "1                  4  3  1\n",
            "2                  1  1  8\n"
          ],
          "name": "stdout"
        }
      ]
    },
    {
      "cell_type": "markdown",
      "metadata": {
        "id": "W-H_iSsdPqoe"
      },
      "source": [
        "### The TP/TN table above shows how many predictions are correct. Average accuraccy ~82% "
      ]
    },
    {
      "cell_type": "code",
      "metadata": {
        "colab": {
          "base_uri": "https://localhost:8080/",
          "height": 311
        },
        "id": "YMnN0zSpF9Mb",
        "outputId": "0b79a7a7-54f2-49f3-b393-4e42e45b4d1c"
      },
      "source": [
        "from yellowbrick.classifier.rocauc import roc_auc\n",
        "roc_auc(classifier, X_train, y_train, X_test=X_test, y_test=y_test, classes=['0 - free of event', '1 - S wave','2 - P wave'])"
      ],
      "execution_count": null,
      "outputs": [
        {
          "output_type": "execute_result",
          "data": {
            "text/plain": [
              "<matplotlib.axes._subplots.AxesSubplot at 0x7fdaeea7ae10>"
            ]
          },
          "metadata": {
            "tags": []
          },
          "execution_count": 46
        },
        {
          "output_type": "display_data",
          "data": {
            "image/png": "[encoded data removed]",
            "text/plain": [
              "<Figure size 432x288 with 1 Axes>"
            ]
          },
          "metadata": {
            "tags": [],
            "needs_background": "light"
          }
        }
      ]
    },
    {
      "cell_type": "markdown",
      "metadata": {
        "id": "xh8-hoMcJJrv"
      },
      "source": [
        "# END"
      ]
    },
    {
      "cell_type": "code",
      "metadata": {
        "id": "01ABG3DLE5OZ"
      },
      "source": [
        ""
      ],
      "execution_count": null,
      "outputs": []
    },
    {
      "cell_type": "code",
      "metadata": {
        "colab": {
          "base_uri": "https://localhost:8080/",
          "height": 1000
        },
        "id": "lolUYmQEkj6M",
        "outputId": "89004fc0-8fe4-446c-8f5e-90ff18a4d06a"
      },
      "source": [
        "# ## разбиваем выделенные фичи на тренировочный и тестовый наборы \n",
        "# # trainSet, testSet = train_test_split(features, test_size=0.4, random_state=42) \n",
        "\n",
        "# ## выводим статистику по нашим наборам\n",
        "# print('trainSet.shape =', trainSet.shape)\n",
        "# print('testSet.shape  =', testSet.shape)\n",
        "# print()\n",
        "# print('Value counts train:\\n', trainSet.label.value_counts())\n",
        "# print()\n",
        "# print('Value counts test:\\n', testSet.label.value_counts())\n",
        "\n",
        "# ## лист фич\n",
        "# featureList = trainSet.drop(['label'], axis=1).columns\n",
        "\n",
        "# ## параметры классификатора\n",
        "# params = {'n_estimators': 500, 'max_depth': 4, 'min_samples_split': 4, 'max_features' : 1, 'class_weight' : 'balanced',\n",
        "#          'random_state': 42}\n",
        "\n",
        "# ## обучаем классификатор\n",
        "# clf = RandomForestClassifier(**params).fit(trainSet[featureList], trainSet['label'])\n",
        "\n",
        "# ## делаем предсказание на тестовом наборе\n",
        "# y_pred = clf.predict(testSet[featureList])\n",
        "# y_pred_proba = clf.predict_proba(testSet[featureList])[:,1]  ## вероятности\n",
        "\n",
        "# ## визуализируем вероятности для предсказаний\n",
        "# import matplotlib.pyplot as plt\n",
        "# plt.hist(y_pred_proba)\n",
        "# plt.ylabel('Распределение вероятностей (test-set)')\n",
        "# plt.show()\n",
        "\n",
        "\n",
        "\n",
        "# from sklearn.metrics import confusion_matrix\n",
        "# from sklearn.metrics import roc_curve, auc\n",
        "# from math import isnan\n",
        "\n",
        "# ## создадим для удобства дейтафрейм с результатами\n",
        "# res = testSet\n",
        "# res['pred'] = y_pred \n",
        "# res['pred_proba'] = y_pred_proba\n",
        "\n",
        "# ## получаем из классификатора важность фич и отображаем их\n",
        "# ftmprt = pd.DataFrame()\n",
        "# ftmprt['features'] = featureList\n",
        "# ftmprt['importances'] = clf.feature_importances_\n",
        "# ftmprt = ftmprt.sort_values('importances', ascending=False)\n",
        "# print(ftmprt.head(20))\n",
        "# print()\n",
        "# proba = res.pred_proba\n",
        "\n",
        "# ## считаем матрицу ошибок\n",
        "# CM = confusion_matrix(res['label'], res['pred'])\n",
        "# CM_DF = pd.DataFrame(data=CM, columns = ['Pos', 'Neg'])\n",
        "# print(CM_DF)\n",
        "\n",
        "# # ROC-AUC \n",
        "# FPR, TPR, thresholds = roc_curve(res['label'], res['pred_proba'],pos_label=2)\n",
        "# roc_auc = auc(FPR, TPR)\n",
        "# acc = res[res['pred'] == res['label']].shape[0] / res.shape[0] ## точность\n",
        "# print(f\"\\nAUC = {roc_auc:.3f}  Точность = {acc:.3f}\\n\")\n",
        "\n",
        "# # ROC-кривая\n",
        "# plt.title('Receiver Operating Characteristic')\n",
        "# plt.plot(FPR, TPR, 'b', label=f'AUC = {roc_auc:.2f}')\n",
        "# plt.legend(loc='lower right')\n",
        "# plt.plot([0, 1], [0, 1], 'r--')\n",
        "# plt.xlim([0, 1])\n",
        "# plt.ylim([0, 1])\n",
        "# plt.ylabel('True Positive Rate')\n",
        "# plt.xlabel('False Positive Rate')\n",
        "# plt.show()"
      ],
      "execution_count": null,
      "outputs": [
        {
          "output_type": "stream",
          "text": [
            "trainSet.shape = (72, 16)\n",
            "testSet.shape  = (48, 16)\n",
            "\n",
            "Value counts train:\n",
            " 2    37\n",
            "1    35\n",
            "Name: label, dtype: int64\n",
            "\n",
            "Value counts test:\n",
            " 1    25\n",
            "2    23\n",
            "Name: label, dtype: int64\n"
          ],
          "name": "stdout"
        },
        {
          "output_type": "display_data",
          "data": {
            "image/png": "[encoded data removed]",
            "text/plain": [
              "<Figure size 432x288 with 1 Axes>"
            ]
          },
          "metadata": {
            "tags": [],
            "needs_background": "light"
          }
        },
        {
          "output_type": "stream",
          "text": [
            "                               features  importances\n",
            "12                     y_filt__kurtosis     0.085132\n",
            "4            y_filt__standard_deviation     0.080464\n",
            "0                       y_filt__maximum     0.079133\n",
            "9     y_filt__first_location_of_minimum     0.078614\n",
            "13                     y_filt__skewness     0.073497\n",
            "14                   y_filt__abs_energy     0.068057\n",
            "5   y_filt__binned_entropy__max_bins_10     0.067344\n",
            "11                   y_filt__sum_values     0.066201\n",
            "2                       y_filt__minimum     0.064795\n",
            "3                        y_filt__median     0.061153\n",
            "7              y_filt__count_below_mean     0.059811\n",
            "6              y_filt__count_above_mean     0.057195\n",
            "10                  y_filt__mean_change     0.054035\n",
            "8     y_filt__first_location_of_maximum     0.052638\n",
            "1                          y_filt__mean     0.051930\n",
            "\n",
            "   Pos  Neg\n",
            "0   20    5\n",
            "1    4   19\n",
            "\n",
            "AUC = 0.951  Точность = 0.812\n",
            "\n"
          ],
          "name": "stdout"
        },
        {
          "output_type": "display_data",
          "data": {
            "image/png": "[encoded data removed]",
            "text/plain": [
              "<Figure size 432x288 with 1 Axes>"
            ]
          },
          "metadata": {
            "tags": [],
            "needs_background": "light"
          }
        }
      ]
    },
    {
      "cell_type": "markdown",
      "metadata": {
        "id": "GiuJeuQ2Yfsf"
      },
      "source": [
        "# _____________________________"
      ]
    }
  ]
}